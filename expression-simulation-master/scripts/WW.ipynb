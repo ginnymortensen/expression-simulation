{
 "cells": [
  {
   "cell_type": "code",
   "execution_count": 1,
   "metadata": {},
   "outputs": [],
   "source": [
    "import pinetree as pt"
   ]
  },
  {
   "cell_type": "code",
   "execution_count": 2,
   "metadata": {},
   "outputs": [],
   "source": [
    "model = pt.Model(cell_volume = 8e-16)"
   ]
  },
  {
   "cell_type": "code",
   "execution_count": 3,
   "metadata": {},
   "outputs": [],
   "source": [
    "plasmid = pt.Genome(name=\"WW\", length =2000)"
   ]
  },
  {
   "cell_type": "code",
   "execution_count": 4,
   "metadata": {},
   "outputs": [],
   "source": [
    "plasmid.add_promoter(name=\"weakprom\", start=1, stop=10,\n",
    "                     interactions={\"rnapol\": 2e6})\n",
    "\n",
    "plasmid.add_gene(name=\"vector\", start=26, stop=998,\n",
    "                 rbs_start=11, rbs_stop=26, rbs_strength=1e5)\n",
    "\n",
    "plasmid.add_terminator(name=\"t1\", start=999, stop=1000,\n",
    "                       efficiency={\"rnapol\": 1.0})"
   ]
  },
  {
   "cell_type": "code",
   "execution_count": 5,
   "metadata": {},
   "outputs": [],
   "source": [
    "plasmid.add_promoter(name=\"chromprom\", start=1001, stop=1011,\n",
    "                     interactions={\"rnapol\": 2e8})\n",
    "\n",
    "plasmid.add_gene(name=\"chromosome\", start=1027, stop=1998,\n",
    "                 rbs_start=1012, rbs_stop=1027, rbs_strength=1e7)\n",
    "\n",
    "plasmid.add_terminator(name=\"t2\", start=1999, stop=2000,\n",
    "                       efficiency={\"rnapol\": 1.0})"
   ]
  },
  {
   "cell_type": "code",
   "execution_count": 6,
   "metadata": {},
   "outputs": [],
   "source": [
    "model.register_genome(plasmid)"
   ]
  },
  {
   "cell_type": "code",
   "execution_count": 7,
   "metadata": {},
   "outputs": [],
   "source": [
    "model.add_polymerase(name=\"rnapol\", speed=40, footprint=10, copy_number=10)\n",
    "\n",
    "model.add_ribosome(speed=30, footprint=10, copy_number=100)\n",
    "\n",
    "model.add_reaction(reactants=['vector', 'rnapol'],\n",
    "                   products=['rnapol-vector'],\n",
    "                   rate_constant=1e-7)\n",
    "\n",
    "model.add_reaction(reactants=['chromosome', 'rnapol'],\n",
    "                   products=['rnapol-chromosome'],\n",
    "                   rate_constant=1e-7)"
   ]
  },
  {
   "cell_type": "code",
   "execution_count": 8,
   "metadata": {},
   "outputs": [],
   "source": [
    "model.simulate(time_limit=1000, time_step=1, output=\"WW.tsv\")"
   ]
  },
  {
   "cell_type": "code",
   "execution_count": null,
   "metadata": {},
   "outputs": [],
   "source": []
  },
  {
   "cell_type": "code",
   "execution_count": null,
   "metadata": {},
   "outputs": [],
   "source": []
  }
 ],
 "metadata": {
  "kernelspec": {
   "display_name": "Python 3",
   "language": "python",
   "name": "python3"
  },
  "language_info": {
   "codemirror_mode": {
    "name": "ipython",
    "version": 3
   },
   "file_extension": ".py",
   "mimetype": "text/x-python",
   "name": "python",
   "nbconvert_exporter": "python",
   "pygments_lexer": "ipython3",
   "version": "3.8.2"
  }
 },
 "nbformat": 4,
 "nbformat_minor": 4
}
